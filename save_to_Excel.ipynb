{
 "cells": [
  {
   "cell_type": "markdown",
   "metadata": {},
   "source": [
    "# 将数据保存到Excel    import xlwt\n",
    "\n",
    "    1. 以 utf-8编码创建一个Excel 对象\n",
    "    \n",
    "    2. 创建一个Sheet表\n",
    "    \n",
    "    3. 往单元格写入内容\n",
    "    \n",
    "    4. 保存表格"
   ]
  },
  {
   "cell_type": "code",
   "execution_count": 15,
   "metadata": {},
   "outputs": [],
   "source": [
    "import xlwt\n",
    "\n",
    "# 1 创建 workbook 对象\n",
    "workbook = xlwt.Workbook(encoding=\"utf-8\",style_compression=0)     \n",
    "\n",
    "# 2 创建工作表 sheet\n",
    "worksheet = workbook.add_sheet('sheet1',cell_overwrite_ok=True)   #cell_overwrite_ok 内容覆盖\n",
    "\n",
    "# 3 写入数据，第一个参数：“行”；第二个参数：“列”，第三个参数：“写入的数据”\n",
    "worksheet.write(0,0,\"hello\")\n",
    "\n",
    "#4 保存表格  注意这里是workbook\n",
    "workbook.save(\"student.xls\")\n"
   ]
  },
  {
   "cell_type": "markdown",
   "metadata": {},
   "source": [
    "# 将9*9 乘法表写入表格"
   ]
  },
  {
   "cell_type": "code",
   "execution_count": 13,
   "metadata": {},
   "outputs": [
    {
     "name": "stdout",
     "output_type": "stream",
     "text": [
      "1 * 1 = 1\t\n",
      "\n",
      "1 * 2 = 2\t2 * 2 = 4\t\n",
      "\n",
      "1 * 3 = 3\t2 * 3 = 6\t3 * 3 = 9\t\n",
      "\n",
      "1 * 4 = 4\t2 * 4 = 8\t3 * 4 = 12\t4 * 4 = 16\t\n",
      "\n",
      "1 * 5 = 5\t2 * 5 = 10\t3 * 5 = 15\t4 * 5 = 20\t5 * 5 = 25\t\n",
      "\n",
      "1 * 6 = 6\t2 * 6 = 12\t3 * 6 = 18\t4 * 6 = 24\t5 * 6 = 30\t6 * 6 = 36\t\n",
      "\n",
      "1 * 7 = 7\t2 * 7 = 14\t3 * 7 = 21\t4 * 7 = 28\t5 * 7 = 35\t6 * 7 = 42\t7 * 7 = 49\t\n",
      "\n",
      "1 * 8 = 8\t2 * 8 = 16\t3 * 8 = 24\t4 * 8 = 32\t5 * 8 = 40\t6 * 8 = 48\t7 * 8 = 56\t8 * 8 = 64\t\n",
      "\n",
      "1 * 9 = 9\t2 * 9 = 18\t3 * 9 = 27\t4 * 9 = 36\t5 * 9 = 45\t6 * 9 = 54\t7 * 9 = 63\t8 * 9 = 72\t9 * 9 = 81\t\n",
      "\n"
     ]
    }
   ],
   "source": [
    "# 先写出乘法表的程序\n",
    "\n",
    "for i in range(1,10):\n",
    "    \n",
    "    for j in range(1,i+1):\n",
    "        \n",
    "        print(\"{} * {} = {}\".format(j,i,i*j),end='\\t')   \n",
    "    print('\\n')"
   ]
  },
  {
   "cell_type": "code",
   "execution_count": 14,
   "metadata": {},
   "outputs": [
    {
     "name": "stdout",
     "output_type": "stream",
     "text": [
      "数据写入完毕！\n"
     ]
    }
   ],
   "source": [
    "# 将九九乘法表写入 Excel,并保存\n",
    "\n",
    "workbook1 = xlwt.Workbook(encoding=\"utf-8\")\n",
    "\n",
    "worksheet1 = workbook1.add_sheet(\"sheet1\")\n",
    "\n",
    "for i in range(1,10):\n",
    "    \n",
    "    for j in range(1,i+1):\n",
    "        \n",
    "        worksheet1.write(i-1,j-1,\"{} * {} = {}\".format(j,i,i*j)) \n",
    "        \n",
    "workbook1.save(\"9x9.xls\")\n",
    "\n",
    "print(\"数据写入完毕！\")\n",
    "        \n",
    "    "
   ]
  },
  {
   "cell_type": "code",
   "execution_count": null,
   "metadata": {},
   "outputs": [],
   "source": []
  }
 ],
 "metadata": {
  "kernelspec": {
   "display_name": "Python 3",
   "language": "python",
   "name": "python3"
  },
  "language_info": {
   "codemirror_mode": {
    "name": "ipython",
    "version": 3
   },
   "file_extension": ".py",
   "mimetype": "text/x-python",
   "name": "python",
   "nbconvert_exporter": "python",
   "pygments_lexer": "ipython3",
   "version": "3.7.0"
  }
 },
 "nbformat": 4,
 "nbformat_minor": 2
}
