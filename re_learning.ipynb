{
 "cells": [
  {
   "cell_type": "markdown",
   "metadata": {},
   "source": [
    "# 正则表达式\n",
    "\n",
    "字符串模式  （判断字符串是否符合一定的标准）"
   ]
  },
  {
   "cell_type": "code",
   "execution_count": 2,
   "metadata": {},
   "outputs": [
    {
     "name": "stdout",
     "output_type": "stream",
     "text": [
      "None\n"
     ]
    }
   ],
   "source": [
    "import re\n",
    "\n",
    "# 创建模式\n",
    "pattern = re.compile(\"AA\")   #此处的AA ，是正则表达式，用来去验证其他字符串\n",
    "\n",
    "m = pattern.search(\"CBA\")\n",
    "\n",
    "print(m)   #没有AA, 所以没有匹配到"
   ]
  },
  {
   "cell_type": "markdown",
   "metadata": {},
   "source": [
    "# 1 search 从前往后寻找，只寻找一个，寻找到第一个就不在寻找"
   ]
  },
  {
   "cell_type": "code",
   "execution_count": 3,
   "metadata": {},
   "outputs": [
    {
     "name": "stdout",
     "output_type": "stream",
     "text": [
      "<re.Match object; span=(3, 5), match='AA'>\n"
     ]
    }
   ],
   "source": [
    "m = pattern.search(\"ABCAA\")\n",
    "\n",
    "print(m)    #匹配到，并获得位置"
   ]
  },
  {
   "cell_type": "code",
   "execution_count": 4,
   "metadata": {},
   "outputs": [
    {
     "name": "stdout",
     "output_type": "stream",
     "text": [
      "<re.Match object; span=(3, 5), match='AA'>\n"
     ]
    }
   ],
   "source": [
    "m = pattern.search(\"ABCAADDCCAAA\")\n",
    "\n",
    "print(m)  #还是 [3,5),说明search 只寻找一个，寻找到第一个就不在寻找"
   ]
  },
  {
   "cell_type": "markdown",
   "metadata": {},
   "source": [
    "# 没有模式（pattern）对象  的使用"
   ]
  },
  {
   "cell_type": "code",
   "execution_count": 7,
   "metadata": {},
   "outputs": [
    {
     "name": "stdout",
     "output_type": "stream",
     "text": [
      "<re.Match object; span=(1, 4), match='asd'>\n"
     ]
    }
   ],
   "source": [
    "m = re.search(\"asd\",\"Aasd\")     #前面的字符串为：规则（模板）  后面的字符串是被校验的对象\n",
    "\n",
    "print(m)"
   ]
  },
  {
   "cell_type": "markdown",
   "metadata": {},
   "source": [
    "# 2 findall 方法 :  把符合规则的 所有字符串都找出来，返回是列表"
   ]
  },
  {
   "cell_type": "code",
   "execution_count": 8,
   "metadata": {},
   "outputs": [
    {
     "name": "stdout",
     "output_type": "stream",
     "text": [
      "['a', 'a']\n"
     ]
    }
   ],
   "source": [
    "m = re.findall(\"a\",\"ASCaDFGAa\")  #前面的字符串是  规则（正则表达式）； 后面的字符串是被校对的字符串\n",
    "\n",
    "print(m)"
   ]
  },
  {
   "cell_type": "code",
   "execution_count": 9,
   "metadata": {},
   "outputs": [
    {
     "name": "stdout",
     "output_type": "stream",
     "text": [
      "['A', 'S', 'C', 'D', 'F', 'G', 'A']\n"
     ]
    }
   ],
   "source": [
    "m = re.findall(\"[A-Z]\",\"ASCaDFGAa\")\n",
    "\n",
    "print(m)"
   ]
  },
  {
   "cell_type": "code",
   "execution_count": 10,
   "metadata": {},
   "outputs": [
    {
     "name": "stdout",
     "output_type": "stream",
     "text": [
      "['ASC', 'DFGA']\n"
     ]
    }
   ],
   "source": [
    "m = re.findall(\"[A-Z]+\",\"ASCaDFGAa\")   #“+”，至少出现一次\n",
    "\n",
    "print(m)"
   ]
  },
  {
   "cell_type": "markdown",
   "metadata": {},
   "source": [
    "# 3 sub方法： 替换功能  实际应用中可用于替换换行符"
   ]
  },
  {
   "cell_type": "code",
   "execution_count": 15,
   "metadata": {},
   "outputs": [
    {
     "name": "stdout",
     "output_type": "stream",
     "text": [
      "pattern:  AbcdcAsd\n",
      "AbcdcAsd\n"
     ]
    }
   ],
   "source": [
    "pattern = re.compile(\"a\")   #compile 中的规则字符串  是需要查找的字符串\n",
    "m = pattern.sub(\"A\",\"abcdcasd\")   #用 模式方式 替换字符串，第一个参数 是用于取替换的字符串，第二个参数  是原始的字符串\n",
    "print(\"pattern: \",m)\n",
    "\n",
    "\n",
    "m1 = re.sub(\"a\",\"A\",\"abcdcasd\")   #找到 a 用 A 替换，在第三个字符串中查找“a”\n",
    "\n",
    "print(m)"
   ]
  },
  {
   "cell_type": "markdown",
   "metadata": {},
   "source": [
    "# 注意： 建议在正则表达式中  被比较的字符串前面加上 r ,这样不用担心转义字符的问题"
   ]
  },
  {
   "cell_type": "code",
   "execution_count": 16,
   "metadata": {},
   "outputs": [
    {
     "name": "stdout",
     "output_type": "stream",
     "text": [
      "\\aabd-\\'\n"
     ]
    }
   ],
   "source": [
    "a = r\"\\aabd-\\'\"  #把双引号里的内容全部输出，忽略转义符的影响，即限制了转义符的功能，并将转义符输出\n",
    "\n",
    "print(a)"
   ]
  },
  {
   "cell_type": "code",
   "execution_count": null,
   "metadata": {},
   "outputs": [],
   "source": []
  }
 ],
 "metadata": {
  "kernelspec": {
   "display_name": "Python 3",
   "language": "python",
   "name": "python3"
  },
  "language_info": {
   "codemirror_mode": {
    "name": "ipython",
    "version": 3
   },
   "file_extension": ".py",
   "mimetype": "text/x-python",
   "name": "python",
   "nbconvert_exporter": "python",
   "pygments_lexer": "ipython3",
   "version": "3.7.0"
  }
 },
 "nbformat": 4,
 "nbformat_minor": 2
}
