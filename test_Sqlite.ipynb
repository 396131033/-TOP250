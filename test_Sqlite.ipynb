{
 "cells": [
  {
   "cell_type": "markdown",
   "metadata": {},
   "source": [
    "# 将数据保存到数据库  SQLite"
   ]
  },
  {
   "cell_type": "markdown",
   "metadata": {},
   "source": [
    "# 1 连接数据库"
   ]
  },
  {
   "cell_type": "code",
   "execution_count": 1,
   "metadata": {},
   "outputs": [
    {
     "name": "stdout",
     "output_type": "stream",
     "text": [
      "Opened database successfully!\n"
     ]
    }
   ],
   "source": [
    "import sqlite3\n",
    "\n",
    "# 打开或创建数据库文件\n",
    "conn = sqlite3.connect(\"test.db\")\n",
    "\n",
    "print(\"Opened database successfully!\")"
   ]
  },
  {
   "cell_type": "markdown",
   "metadata": {},
   "source": [
    "# 2 创建数据表"
   ]
  },
  {
   "cell_type": "code",
   "execution_count": 3,
   "metadata": {},
   "outputs": [
    {
     "name": "stdout",
     "output_type": "stream",
     "text": [
      "成功打开数据库\n",
      "成功建表\n"
     ]
    }
   ],
   "source": [
    "print(\"成功打开数据库\")\n",
    "\n",
    "c = conn.cursor()  #获取游标\n",
    "\n",
    "# 分号‘；’，代表一行的结束\n",
    "sql = '''\n",
    "        create table company\n",
    "            (id int primary key not null,\n",
    "            name text not null,\n",
    "            age int not null,\n",
    "            address char(50),\n",
    "            salary real);   \n",
    "'''\n",
    "\n",
    "c.execute(sql)   #执行sql语句\n",
    "conn.commit()    #提交数据库操作\n",
    "conn.close()     # 关闭数据库连接\n",
    "\n",
    "print(\"成功建表\")"
   ]
  },
  {
   "cell_type": "markdown",
   "metadata": {},
   "source": [
    "# 3 插入数据"
   ]
  },
  {
   "cell_type": "code",
   "execution_count": 13,
   "metadata": {},
   "outputs": [
    {
     "name": "stdout",
     "output_type": "stream",
     "text": [
      "插入数据\n",
      "插入数据完毕\n"
     ]
    }
   ],
   "source": [
    "print(\"插入数据\")\n",
    "\n",
    "conn = sqlite3.connect(\"test.db\")\n",
    "c = conn.cursor()\n",
    "\n",
    "# sql1 = '''\n",
    "    \n",
    "#     insert into company (id,name,age,address,salary)\n",
    "#         values(1,\"张三\",32,\"成都\",8000)\n",
    "# '''\n",
    "\n",
    "sql2 = '''\n",
    "    \n",
    "    insert into company (id,name,age,address,salary)\n",
    "        values(2,\"李四\",28,\"重庆\",26000)\n",
    " '''       \n",
    "\n",
    "# sql2 = '''\n",
    "\n",
    "#     insert into company (id,name,age,address,salary)\n",
    "#         values(2,\"李四\",28,\"重庆\",26000)\n",
    "# '''\n",
    "\n",
    "# c.execute(sql1)\n",
    "c.execute(sql2)\n",
    "conn.commit()\n",
    "conn.close\n",
    "print(\"插入数据完毕\")"
   ]
  },
  {
   "cell_type": "markdown",
   "metadata": {},
   "source": [
    "# 4 查询数据"
   ]
  },
  {
   "cell_type": "code",
   "execution_count": 20,
   "metadata": {},
   "outputs": [
    {
     "name": "stdout",
     "output_type": "stream",
     "text": [
      "id =  1\n",
      "name =  张三\n",
      "age =  32\n",
      "address =  成都\n",
      "salary =  8000.0 \n",
      "\n",
      "id =  2\n",
      "name =  李四\n",
      "age =  28\n",
      "address =  重庆\n",
      "salary =  26000.0 \n",
      "\n",
      "查询完毕\n"
     ]
    }
   ],
   "source": [
    "conn = sqlite3.connect(\"test.db\")\n",
    "\n",
    "c = conn.cursor()\n",
    "\n",
    "sql = \"select id,name,age,address,salary from company\"\n",
    "\n",
    "cursor = c.execute(sql)\n",
    "\n",
    "for row in cursor:\n",
    "    print(\"id = \",row[0])\n",
    "    print(\"name = \",row[1])\n",
    "    print(\"age = \",row[2])\n",
    "    print(\"address = \",row[3] )\n",
    "    print(\"salary = \",row[4],'\\n')\n",
    "    \n",
    "conn.close()\n",
    "print(\"查询完毕\")"
   ]
  },
  {
   "cell_type": "code",
   "execution_count": null,
   "metadata": {},
   "outputs": [],
   "source": []
  },
  {
   "cell_type": "code",
   "execution_count": null,
   "metadata": {},
   "outputs": [],
   "source": []
  }
 ],
 "metadata": {
  "kernelspec": {
   "display_name": "Python 3",
   "language": "python",
   "name": "python3"
  },
  "language_info": {
   "codemirror_mode": {
    "name": "ipython",
    "version": 3
   },
   "file_extension": ".py",
   "mimetype": "text/x-python",
   "name": "python",
   "nbconvert_exporter": "python",
   "pygments_lexer": "ipython3",
   "version": "3.7.0"
  }
 },
 "nbformat": 4,
 "nbformat_minor": 2
}
